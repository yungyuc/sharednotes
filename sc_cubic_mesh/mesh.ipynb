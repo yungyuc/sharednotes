{
 "cells": [
  {
   "cell_type": "markdown",
   "metadata": {},
   "source": [
    "# SOLVCON Mesh"
   ]
  },
  {
   "cell_type": "markdown",
   "metadata": {},
   "source": [
    "A mesh is a set of elements covering the space in which we want to solve for the solution of the conservation laws.  In other words, a mesh defines the geometrical domain of interests for our problem."
   ]
  },
  {
   "cell_type": "code",
   "execution_count": 1,
   "metadata": {
    "collapsed": false
   },
   "outputs": [],
   "source": [
    "import os, sys\n",
    "import pickle\n",
    "import numpy as np\n",
    "import solvcon as sc\n",
    "from solvcon.io.core import fioregy # FIXME: this should be available in solvcon namespace.\n",
    "# Load the block object.\n",
    "meshpath = os.path.join(os.environ['SCSRC'], 'test', 'data', 'cubic_t200mm.g')\n",
    "blk = fioregy.GenesisIO().load(stream=meshpath)\n",
    "# Write out the major arrays.\n",
    "names = [\n",
    "    # metric.\n",
    "    'ndcrd', 'fccnd', 'fcnml', 'fcara', 'clcnd', 'clvol',\n",
    "    # type/meta.\n",
    "    'fctpn', 'cltpn', 'clgrp',\n",
    "    # connectivity.\n",
    "    'fcnds', 'fccls', 'clnds', 'clfcs']\n",
    "for name in names:\n",
    "    arr = getattr(blk, name)\n",
    "    np.save(os.path.join(name), arr)"
   ]
  },
  {
   "cell_type": "code",
   "execution_count": 2,
   "metadata": {
    "collapsed": false
   },
   "outputs": [
    {
     "name": "stdout",
     "output_type": "stream",
     "text": [
      "316\n",
      "[ 3  0  0  0 -1]\n",
      "[  3 315 315 315  -1]\n",
      "(array([], dtype=int64), array([], dtype=int64))\n"
     ]
    }
   ],
   "source": [
    "print(len(blk.ndcrd))\n",
    "print(blk.fcnds.min(axis=0))\n",
    "print(blk.fcnds.max(axis=0))\n",
    "print(np.where(blk.fcnds==316))"
   ]
  },
  {
   "cell_type": "code",
   "execution_count": 3,
   "metadata": {
    "collapsed": false
   },
   "outputs": [
    {
     "name": "stdout",
     "output_type": "stream",
     "text": [
      "[ 3  0  0  0 -1]\n",
      "[  3 315 315 315  -1]\n",
      "(array([], dtype=int64), array([], dtype=int64))\n"
     ]
    }
   ],
   "source": [
    "fcnds = np.load('fcnds.npy')\n",
    "print(fcnds.min(axis=0))\n",
    "print(fcnds.max(axis=0))\n",
    "print(np.where(fcnds==316))"
   ]
  }
 ],
 "metadata": {
  "kernelspec": {
   "display_name": "Python 3",
   "language": "python",
   "name": "python3"
  },
  "language_info": {
   "codemirror_mode": {
    "name": "ipython",
    "version": 3
   },
   "file_extension": ".py",
   "mimetype": "text/x-python",
   "name": "python",
   "nbconvert_exporter": "python",
   "pygments_lexer": "ipython3",
   "version": "3.4.3"
  }
 },
 "nbformat": 4,
 "nbformat_minor": 0
}
